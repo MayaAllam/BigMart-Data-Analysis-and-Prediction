{
  "nbformat": 4,
  "nbformat_minor": 0,
  "metadata": {
    "colab": {
      "provenance": [],
      "include_colab_link": true
    },
    "kernelspec": {
      "name": "python3",
      "display_name": "Python 3"
    },
    "language_info": {
      "name": "python"
    }
  },
  "cells": [
    {
      "cell_type": "markdown",
      "metadata": {
        "id": "view-in-github",
        "colab_type": "text"
      },
      "source": [
        "<a href=\"https://colab.research.google.com/github/MayaAllam/BigMart-Data-Analysis-and-Prediction/blob/main/Internshipcode.ipynb\" target=\"_parent\"><img src=\"https://colab.research.google.com/assets/colab-badge.svg\" alt=\"Open In Colab\"/></a>"
      ]
    },
    {
      "cell_type": "code",
      "execution_count": null,
      "metadata": {
        "id": "8Qda2DMqjkMn"
      },
      "outputs": [],
      "source": [
        "import numpy as np\n",
        "import pandas as pd\n",
        "import matplotlib.pyplot as plt\n",
        "%matplotlib inline\n",
        "import seaborn as sns\n",
        "import warnings\n",
        "import joblib\n",
        "from sklearn.preprocessing import LabelEncoder\n",
        "from sklearn.model_selection import train_test_split\n",
        "from sklearn.linear_model import LinearRegression\n",
        "from sklearn.metrics import r2_score, mean_absolute_error, mean_squared_error\n",
        "from sklearn.ensemble import RandomForestRegressor\n",
        "import plotly.graph_objects as go\n",
        "from plotly.subplots import make_subplots\n",
        "from xgboost import XGBRegressor\n",
        "warnings.filterwarnings(\"ignore\")\n",
        "upload=files.upload()\n",
        "upload=files.upload()"
      ]
    },
    {
      "cell_type": "code",
      "source": [
        "# Problem Statment:The data has missing values as some stores do not report all the data due to technical glitches. Hence, it will be required to treat them accordingly.\n",
        "# Hypothesis Generation:Item type,Item MRP, Stores established\n"
      ],
      "metadata": {
        "id": "33Gn0MzWq38s"
      },
      "execution_count": null,
      "outputs": []
    },
    {
      "cell_type": "code",
      "source": [
        "data_train = pd.read_csv(\"Train.csv\")\n",
        "data_test = pd.read_csv(\"Test.csv\")"
      ],
      "metadata": {
        "id": "PBCTEzmMlaUf"
      },
      "execution_count": null,
      "outputs": []
    },
    {
      "cell_type": "code",
      "source": [
        "data_train.head()\n"
      ],
      "metadata": {
        "id": "4VL5ddbTBKwK"
      },
      "execution_count": null,
      "outputs": []
    },
    {
      "cell_type": "code",
      "source": [
        "data_test.head()"
      ],
      "metadata": {
        "id": "gnTQPnkQR-xI"
      },
      "execution_count": null,
      "outputs": []
    },
    {
      "cell_type": "code",
      "source": [
        "print('Train Data',data_train.shape)\n",
        "print('Test Data',data_test.shape)\n",
        "data_train.info()\n",
        "data_train.boxplot()"
      ],
      "metadata": {
        "id": "IBsTKvlGmuvm"
      },
      "execution_count": null,
      "outputs": []
    },
    {
      "cell_type": "code",
      "source": [
        "print('No of Training examples:', len(data_train),'\\n')\n",
        "data_train.describe().T.style.background_gradient(cmap='BuPu')"
      ],
      "metadata": {
        "id": "Qtf4wU4KnLOf"
      },
      "execution_count": null,
      "outputs": []
    },
    {
      "cell_type": "code",
      "source": [
        "numericalfeatures = data_train.select_dtypes(include = ['int64', 'Int64','float64']).dtypes.index\n",
        "numericalfeatures"
      ],
      "metadata": {
        "id": "UvQMrDU-nQM1"
      },
      "execution_count": null,
      "outputs": []
    },
    {
      "cell_type": "code",
      "source": [
        "categoricalfeatures = data_train.select_dtypes(include = ['object']).dtypes.index\n",
        "categoricalfeatures"
      ],
      "metadata": {
        "id": "m-pcHjWjnaj8"
      },
      "execution_count": null,
      "outputs": []
    },
    {
      "cell_type": "code",
      "source": [
        "def UniVA_Cat(data, category):\n",
        "  plt.figure(figsize = (10,6))\n",
        "  sns.countplot(x=category, data = data)\n",
        "  plt.xlabel(category,fontsize = 16, fontweight = 'bold')\n",
        "  plt.ylabel('Count',fontsize = 16, fontweight = 'bold')\n",
        "  plt.title('Value counts: \\n{}'.format(data_train[category].value_counts(normalize = True)))\n",
        "\n",
        "  # Rotating xticklabels\n",
        "  if len(data[category].value_counts()) > 7:\n",
        "    X = plt.gca().xaxis\n",
        "    for item in X.get_ticklabels():\n",
        "      item.set_rotation(90)\n",
        "  plt.show()\n"
      ],
      "metadata": {
        "id": "FHxTiUmanhCl"
      },
      "execution_count": null,
      "outputs": []
    },
    {
      "cell_type": "code",
      "source": [
        "UniVA_Cat(data_train,'Item_Fat_Content')"
      ],
      "metadata": {
        "id": "QoQy180-2ccC"
      },
      "execution_count": null,
      "outputs": []
    },
    {
      "cell_type": "code",
      "source": [
        "tlfat = 0.597090 + 0.037076 + 0.013141\n",
        "tlfat"
      ],
      "metadata": {
        "id": "P0pJ8_7WpPPw"
      },
      "execution_count": null,
      "outputs": []
    },
    {
      "cell_type": "code",
      "source": [
        "UniVA_Cat(data_train, 'Item_Type')"
      ],
      "metadata": {
        "id": "qQWe8xYbqjbp"
      },
      "execution_count": null,
      "outputs": []
    },
    {
      "cell_type": "code",
      "source": [
        "UniVA_Cat(data_train, 'Outlet_Identifier')"
      ],
      "metadata": {
        "id": "UBKIxkfj4bow"
      },
      "execution_count": null,
      "outputs": []
    },
    {
      "cell_type": "code",
      "source": [
        "UniVA_Cat(data_train,'Outlet_Size')"
      ],
      "metadata": {
        "id": "Ut6gBDFq4ccV"
      },
      "execution_count": null,
      "outputs": []
    },
    {
      "cell_type": "code",
      "source": [
        "UniVA_Cat(data_train, 'Outlet_Location_Type')"
      ],
      "metadata": {
        "id": "5zwujPArqwnt"
      },
      "execution_count": null,
      "outputs": []
    },
    {
      "cell_type": "code",
      "source": [
        "UniVA_Cat(data_train, 'Outlet_Type')"
      ],
      "metadata": {
        "id": "FQ8WV8Cjq7sY"
      },
      "execution_count": null,
      "outputs": []
    },
    {
      "cell_type": "code",
      "source": [
        "data_train['source'] = 'Train'\n",
        "data_test['source'] = 'Test'\n",
        "df=pd.concat([data_train,data_test], ignore_index=True)\n",
        "df.info()"
      ],
      "metadata": {
        "id": "8ls0l6v8q_eR"
      },
      "execution_count": null,
      "outputs": []
    },
    {
      "cell_type": "code",
      "source": [
        "df.isnull().sum()"
      ],
      "metadata": {
        "id": "ndenTwftrGWp"
      },
      "execution_count": null,
      "outputs": []
    },
    {
      "cell_type": "code",
      "source": [
        "plt.figure(figsize = (10,6))\n",
        "sns.heatmap(df.isnull(), yticklabels=False,cbar = False,cmap ='Blues')\n"
      ],
      "metadata": {
        "id": "jonBo1OprKWW"
      },
      "execution_count": null,
      "outputs": []
    },
    {
      "cell_type": "code",
      "source": [
        "def Percentageofmissing():\n",
        "  miss_item_weight = (df['Item_Weight'].isnull().sum()/len(df))*100\n",
        "  miss_Outlet_Size = (df['Outlet_Size'].isnull().sum()/len(df))*100\n",
        "\n",
        "  print('Percentage of missing values in Item_Weight: ' + str(miss_item_weight),\"%\")\n",
        "  print('Percentage of missing values in Outlet_Size: ' +str(miss_Outlet_Size),\"%\")\n",
        "\n",
        "Percentageofmissing()"
      ],
      "metadata": {
        "id": "9yKeA5nTrSFz"
      },
      "execution_count": null,
      "outputs": []
    },
    {
      "cell_type": "code",
      "source": [
        "df['Item_Weight'].fillna(df['Item_Weight'].mean(),inplace=True)\n",
        "df['Outlet_Size'].value_counts()"
      ],
      "metadata": {
        "id": "6x9SIBbTrYG8"
      },
      "execution_count": null,
      "outputs": []
    },
    {
      "cell_type": "code",
      "source": [
        "df['Outlet_Size'].fillna('Medium', inplace=True)"
      ],
      "metadata": {
        "id": "sBnjI-xrrjFc"
      },
      "execution_count": null,
      "outputs": []
    },
    {
      "cell_type": "code",
      "source": [
        "df.isnull().sum()"
      ],
      "metadata": {
        "id": "xlwB-sR1rwAU"
      },
      "execution_count": null,
      "outputs": []
    },
    {
      "cell_type": "code",
      "source": [
        "df.Item_Visibility.value_counts"
      ],
      "metadata": {
        "id": "g1WEdmZKrzrW"
      },
      "execution_count": null,
      "outputs": []
    },
    {
      "cell_type": "code",
      "source": [
        "df['Item_Visibility'].replace(0.0,value=np.nan,inplace=True)"
      ],
      "metadata": {
        "id": "eRlgvL7Jr2r2"
      },
      "execution_count": null,
      "outputs": []
    },
    {
      "cell_type": "code",
      "source": [
        "df['Item_Visibility']=df['Item_Visibility'].fillna(df.groupby('Item_Identifier')['Item_Visibility'].transform('mean'))"
      ],
      "metadata": {
        "id": "NQjy1w83T-v9"
      },
      "execution_count": null,
      "outputs": []
    },
    {
      "cell_type": "code",
      "source": [
        "plt.figure(figsize=(7,5))\n",
        "sns.countplot(x='Item_Fat_Content',data=df)"
      ],
      "metadata": {
        "id": "rCAhlJcfr-XL"
      },
      "execution_count": null,
      "outputs": []
    },
    {
      "cell_type": "code",
      "source": [
        "df['Item_Fat_Content'].replace({'LF':'Low Fat','reg':'Regular','low fat':'Low Fat'},inplace=True)"
      ],
      "metadata": {
        "id": "Z2giBg3JslRM"
      },
      "execution_count": null,
      "outputs": []
    },
    {
      "cell_type": "code",
      "source": [
        "plt.figure(figsize=(7,5))\n",
        "sns.countplot(x='Item_Fat_Content',data=df)"
      ],
      "metadata": {
        "id": "k6997DyogL5h"
      },
      "execution_count": null,
      "outputs": []
    },
    {
      "cell_type": "code",
      "source": [
        "# Store data for future prediction\n",
        "test_predictions = df.loc[df['source'] == 'Test']\n",
        "test_predictions.drop(['Item_Outlet_Sales','source'],axis=1,inplace=True)\n",
        "test_predictions.head()"
      ],
      "metadata": {
        "id": "pridM-mbs3zG"
      },
      "execution_count": null,
      "outputs": []
    },
    {
      "cell_type": "code",
      "source": [
        "category = ['Item_Fat_Content', 'Item_Type', 'Outlet_Size', 'Outlet_Location_Type', 'Outlet_Type']\n",
        "le = LabelEncoder()\n",
        "df[category] = df[category].apply(le.fit_transform)"
      ],
      "metadata": {
        "id": "6UfGlrZzs9Fg"
      },
      "execution_count": null,
      "outputs": []
    },
    {
      "cell_type": "code",
      "source": [
        "df.head()"
      ],
      "metadata": {
        "id": "MqNvlbh0em8P"
      },
      "execution_count": null,
      "outputs": []
    },
    {
      "cell_type": "code",
      "source": [
        "df.drop(['Item_Identifier','Outlet_Identifier'],axis=1,inplace=True)"
      ],
      "metadata": {
        "id": "SZt2lfJdh5vc"
      },
      "execution_count": null,
      "outputs": []
    },
    {
      "cell_type": "code",
      "source": [
        "df.head()"
      ],
      "metadata": {
        "id": "scARLRs1h_hs"
      },
      "execution_count": null,
      "outputs": []
    },
    {
      "cell_type": "code",
      "source": [
        "train = df.loc[df['source'] == 'Train']\n",
        "test = df.loc[df['source'] == 'Test']"
      ],
      "metadata": {
        "id": "8zOH5QcstTIu"
      },
      "execution_count": null,
      "outputs": []
    },
    {
      "cell_type": "code",
      "source": [
        "train.drop(['source'],axis=1,inplace=True)\n",
        "test.drop(['Item_Outlet_Sales','source'],axis=1,inplace=True)"
      ],
      "metadata": {
        "id": "5ngVAwKfVJc8"
      },
      "execution_count": null,
      "outputs": []
    },
    {
      "cell_type": "code",
      "source": [
        "train.head()"
      ],
      "metadata": {
        "id": "FXa9n-pfVN3A"
      },
      "execution_count": null,
      "outputs": []
    },
    {
      "cell_type": "code",
      "source": [
        "test.head()"
      ],
      "metadata": {
        "id": "JeEXvYrJtXYh"
      },
      "execution_count": null,
      "outputs": []
    },
    {
      "cell_type": "code",
      "source": [
        "x = train.drop(columns=\"Item_Outlet_Sales\")\n",
        "y = train[\"Item_Outlet_Sales\"]\n",
        "X_train, X_test, y_train, y_test = train_test_split(x, y,test_size=0.2, random_state = 0)"
      ],
      "metadata": {
        "id": "v6oMOb-ZtaYS"
      },
      "execution_count": null,
      "outputs": []
    },
    {
      "cell_type": "code",
      "source": [
        "modelcompare = {}\n"
      ],
      "metadata": {
        "id": "u82HId5bVVlD"
      },
      "execution_count": null,
      "outputs": []
    },
    {
      "cell_type": "code",
      "source": [
        "l = LinearRegression()\n",
        "\n",
        "l.fit(X_train,y_train)\n",
        "\n"
      ],
      "metadata": {
        "id": "_YMK6zy1FlIg"
      },
      "execution_count": null,
      "outputs": []
    },
    {
      "cell_type": "code",
      "source": [
        "y_predictions = l.predict(X_test)\n",
        "y_predictions"
      ],
      "metadata": {
        "id": "b9t4jX3nWclT"
      },
      "execution_count": null,
      "outputs": []
    },
    {
      "cell_type": "code",
      "source": [
        "modelcompare['Linear Regression'] = [l.score(X_train,y_train)*100,r2_score(y_test,y_predictions)*100]\n",
        "\n",
        "print(\"Linear Regression\\n\\nAccuracy: {}%\".format(round(l.score(X_train,y_train)*100)))\n",
        "print(\" score: {}%\".format(round(r2_score(y_test,y_predictions)*100)))"
      ],
      "metadata": {
        "id": "9Tl39jgWuHrS"
      },
      "execution_count": null,
      "outputs": []
    },
    {
      "cell_type": "code",
      "source": [
        "rf = RandomForestRegressor(n_estimators=400,max_depth=6,min_samples_leaf=100,n_jobs=4)\n",
        "rf.fit(X_train,y_train)\n",
        "\n",
        "y_predictions = rf.predict(X_test)\n",
        "y_predictions"
      ],
      "metadata": {
        "id": "cm0_w_m2uVy6"
      },
      "execution_count": null,
      "outputs": []
    },
    {
      "cell_type": "code",
      "source": [
        "modelcompare['Random Forest'] = [rf.score(X_train,y_train)*100,r2_score(y_test,y_predictions)*100]\n",
        "\n",
        "print(\"Random Forest\\n\\nAccuracy: {}%\".format(round(rf.score(X_train,y_train)*100)))\n",
        "print(\"score: {}%\".format(round(r2_score(y_test,y_predictions)*100)))"
      ],
      "metadata": {
        "id": "bZrbshEFugyN"
      },
      "execution_count": null,
      "outputs": []
    },
    {
      "cell_type": "code",
      "source": [
        "xgb = XGBRegressor(n_estimators = 100, learning_rate=0.05)\n",
        "xgb.fit(X_train, y_train)\n",
        "y_predictions = xgb.predict(X_test)\n",
        "y_predictions"
      ],
      "metadata": {
        "id": "MtGpwlkYullN"
      },
      "execution_count": null,
      "outputs": []
    },
    {
      "cell_type": "code",
      "source": [
        "modelcompare['XGBoost Regressor'] = [xgb.score(X_train,y_train)*100,r2_score(y_test,y_predictions)*100]\n",
        "\n",
        "print(\"XGBoost Regressor\\n\\nAccuracy: {}%\".format(round(xgb.score(X_train,y_train)*100)))\n",
        "print(\"score: {}%\".format(round(r2_score(y_test,y_predictions)*100)))"
      ],
      "metadata": {
        "id": "Lk_99g3durRW"
      },
      "execution_count": null,
      "outputs": []
    },
    {
      "cell_type": "code",
      "source": [
        "modeldf = pd.DataFrame.from_dict(modelcompare).T\n",
        "modeldf.columns = ['Accuracy', \"r2_score\"]\n",
        "modeldf = modeldf.sort_values('Accuracy', ascending=True)\n",
        "modeldf.style.background_gradient(cmap='PuBu')"
      ],
      "metadata": {
        "id": "SUBO_i0kuz9x"
      },
      "execution_count": null,
      "outputs": []
    },
    {
      "cell_type": "code",
      "source": [
        "figure = go.Figure(data=[\n",
        "    go.Bar(name='r2_score', y=modeldf.index, x=modeldf['r2_score'], orientation='h', marker_color='#B6D0E2'),\n",
        "    go.Bar(name='Accuracy', y=modeldf.index, x=modeldf['Accuracy'], orientation='h', marker_color='#4169e1')\n",
        "])\n",
        "figure.update_layout(barmode='group')\n",
        "figure.show()"
      ],
      "metadata": {
        "id": "nSkqaAC5u5C-"
      },
      "execution_count": null,
      "outputs": []
    },
    {
      "cell_type": "code",
      "source": [
        "test.head()"
      ],
      "metadata": {
        "id": "WvKbzTh_u_9y"
      },
      "execution_count": null,
      "outputs": []
    },
    {
      "cell_type": "code",
      "source": [
        "predict = xgb.predict(test)\n",
        "predict"
      ],
      "metadata": {
        "id": "mumdYOrtvEb0"
      },
      "execution_count": null,
      "outputs": []
    },
    {
      "cell_type": "code",
      "source": [
        "test_predictions.head()"
      ],
      "metadata": {
        "id": "FrCwq315vJDH"
      },
      "execution_count": null,
      "outputs": []
    },
    {
      "cell_type": "code",
      "source": [
        "test_predictions[\"Predicted_Item_Outlet_Sale\"] = predict\n",
        "test_predictions"
      ],
      "metadata": {
        "id": "lcMrsYD9vUaD"
      },
      "execution_count": null,
      "outputs": []
    },
    {
      "cell_type": "code",
      "source": [
        "test_predictions.to_csv(\"ResultSubmit.csv\",index=False)"
      ],
      "metadata": {
        "id": "MClBXxdVvae7"
      },
      "execution_count": null,
      "outputs": []
    },
    {
      "cell_type": "code",
      "source": [
        "ls=[]\n",
        "for i in test.columns:\n",
        "    s = float(input(f\"Enter the {i}:\"))\n",
        "    ls.append(s)"
      ],
      "metadata": {
        "id": "e1eHLFFKvcoy"
      },
      "execution_count": null,
      "outputs": []
    },
    {
      "cell_type": "code",
      "source": [
        "xgb.predict(np.array(ls).reshape(1,-1))"
      ],
      "metadata": {
        "id": "nEVfx6IfwJrE"
      },
      "execution_count": null,
      "outputs": []
    },
    {
      "cell_type": "code",
      "source": [
        "ls2=[]\n",
        "for i in test.columns:\n",
        "    s = float(input(f\"Enter the {i}:\"))\n",
        "    ls2.append(s)"
      ],
      "metadata": {
        "id": "nLpWlGVYwNhv"
      },
      "execution_count": null,
      "outputs": []
    },
    {
      "cell_type": "code",
      "source": [
        "xgb.predict(np.array(ls2).reshape(1,-1))"
      ],
      "metadata": {
        "id": "lsxfw8mQwRB6"
      },
      "execution_count": null,
      "outputs": []
    },
    {
      "cell_type": "code",
      "source": [
        "joblib.dump(xgb,\"Market_model.sav\")"
      ],
      "metadata": {
        "id": "OFStHazYwcVJ"
      },
      "execution_count": null,
      "outputs": []
    }
  ]
}